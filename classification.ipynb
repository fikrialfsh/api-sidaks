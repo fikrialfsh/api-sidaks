{
 "cells": [
  {
   "cell_type": "code",
   "execution_count": 39,
   "id": "044d76ea-4e34-4e60-9d60-7daa80c8be9d",
   "metadata": {},
   "outputs": [],
   "source": [
    "import pandas as pd\n",
    "import numpy as np\n",
    "from sklearn.feature_extraction.text import TfidfTransformer\n",
    "import sklearn"
   ]
  },
  {
   "cell_type": "code",
   "execution_count": 40,
   "id": "9f45f7bd-485d-40b2-8c0a-01cd26561165",
   "metadata": {},
   "outputs": [],
   "source": [
    "truenews = pd.read_csv('factos_dataset.csv')\n",
    "fakenews = pd.read_csv('fake_dataset.csv')"
   ]
  },
  {
   "cell_type": "code",
   "execution_count": 41,
   "id": "dd6aa8f2-9403-48f9-bf64-3e73e2ee98ef",
   "metadata": {},
   "outputs": [],
   "source": [
    "data = pd.concat([truenews, fakenews])"
   ]
  },
  {
   "cell_type": "code",
   "execution_count": 42,
   "id": "478f25ad-ef90-42ea-9736-311c0063f8f0",
   "metadata": {},
   "outputs": [],
   "source": [
    "data_final = data [['Label', 'tweet']].dropna()"
   ]
  },
  {
   "cell_type": "code",
   "execution_count": 43,
   "id": "8deefcec-67cb-4799-a10a-7e0300e6a799",
   "metadata": {},
   "outputs": [
    {
     "data": {
      "text/plain": [
       "FAKTA    619\n",
       "HOAKS    508\n",
       "Name: Label, dtype: int64"
      ]
     },
     "execution_count": 43,
     "metadata": {},
     "output_type": "execute_result"
    }
   ],
   "source": [
    "data_final.Label.value_counts()"
   ]
  },
  {
   "cell_type": "code",
   "execution_count": 44,
   "id": "bfc58e99-1e7f-4f75-b953-53c4c6148586",
   "metadata": {},
   "outputs": [],
   "source": [
    "data_final['label_num'] = data_final.Label.map({'FAKTA' : 1, 'HOAKS' : 0})"
   ]
  },
  {
   "cell_type": "code",
   "execution_count": 45,
   "id": "6042882a-3eff-4521-995b-99955e0cab04",
   "metadata": {},
   "outputs": [],
   "source": [
    "from sklearn.feature_extraction.text import CountVectorizer"
   ]
  },
  {
   "cell_type": "code",
   "execution_count": 46,
   "id": "b36e0b46-e04a-4140-bd49-73f21055607e",
   "metadata": {},
   "outputs": [],
   "source": [
    "#Data Cleaning\n",
    "from nltk.corpus import stopwords\n",
    "import string\n",
    "def process_text(s):\n",
    "\n",
    "    # Check string to see if they are a punctuation\n",
    "    nopunc = [char for char in s if char not in string.punctuation]\n",
    "\n",
    "    # Join the characters again to form the string.\n",
    "    nopunc = ''.join(nopunc)\n",
    "    \n",
    "    # Convert string to lowercase and remove stopwords\n",
    "    clean_string = [word for word in nopunc.split() if word.lower() not in stopwords.words('indonesian')]\n",
    "    return clean_string"
   ]
  },
  {
   "cell_type": "code",
   "execution_count": 47,
   "id": "223e2d38-82a7-49b9-b410-5a04b4fec0e0",
   "metadata": {},
   "outputs": [],
   "source": [
    "data_final['tweet_clean'] = data_final.tweet.apply(process_text)"
   ]
  },
  {
   "cell_type": "code",
   "execution_count": 48,
   "id": "c82272c5-cc95-44f3-924c-18457c0b3408",
   "metadata": {},
   "outputs": [
    {
     "data": {
      "text/plain": [
       "0      kayaknya aku terakhir ke sana sebelum pandemi ...\n",
       "1      bakery  iyya yasmkn bersebelahan dengan smpn t...\n",
       "2      pakar tetap waspadai varian omicron meski geja...\n",
       "3      hamil tujuh bulan siti badriah positif covid v...\n",
       "4      embeeeeer virus covidsarshnhn berawal dari neg...\n",
       "                             ...                        \n",
       "503    cek fakta ppkm dilanjutkan sampai hari kiamat ...\n",
       "504         cek fakta ppkm dilanjutkan sampai harikiamat\n",
       "505    cek fakta ppkm dilanjutkan sampai hari kiamat ...\n",
       "506    cek fakta stasiun televisi berita siarkan kaba...\n",
       "507    turn back hoax salah ppkm dilanjutkan sampai h...\n",
       "Name: tweet, Length: 1127, dtype: object"
      ]
     },
     "execution_count": 48,
     "metadata": {},
     "output_type": "execute_result"
    }
   ],
   "source": [
    "x = data_final.tweet\n",
    "y = data_final['label_num']\n",
    "\n",
    "x"
   ]
  },
  {
   "cell_type": "code",
   "execution_count": 49,
   "id": "31117faf-6bf1-4b09-b785-78abf686dd36",
   "metadata": {},
   "outputs": [],
   "source": [
    "vec = CountVectorizer().fit(x)\n",
    "x_features = vec.get_feature_names_out()\n",
    "x_vec = vec.transform(x)\n",
    "tfidf = TfidfTransformer().fit(x_vec)\n",
    "tfidf_data = tfidf.transform(x_vec)\n",
    "# bow_transformer = CountVectorizer()"
   ]
  },
  {
   "cell_type": "code",
   "execution_count": 50,
   "id": "2ba3c820-815d-403d-b62a-8cfc24a37ce7",
   "metadata": {},
   "outputs": [
    {
     "name": "stdout",
     "output_type": "stream",
     "text": [
      "  (0, 4081)\t0.3540418846215966\n",
      "  (0, 3929)\t0.1971338728360918\n",
      "  (0, 3650)\t0.3540418846215966\n",
      "  (0, 3587)\t0.3983121505490917\n",
      "  (0, 3021)\t0.24613730327266325\n",
      "  (0, 1802)\t0.24915527382328292\n",
      "  (0, 1794)\t0.4425824164765868\n",
      "  (0, 1685)\t0.2579787277650253\n",
      "  (0, 70)\t0.3540418846215966\n",
      "  (0, 13)\t0.20335819830180343\n",
      "  (1, 4505)\t0.27502895796544446\n",
      "  (1, 4491)\t0.27502895796544446\n",
      "  (1, 4081)\t0.20784666825765302\n",
      "  (1, 3929)\t0.11573099243187716\n",
      "  (1, 3870)\t0.27502895796544446\n",
      "  (1, 3690)\t0.17476135376248003\n",
      "  (1, 3650)\t0.20784666825765302\n",
      "  (1, 3445)\t0.25982598299745974\n",
      "  (1, 3021)\t0.14449933931920403\n",
      "  (1, 2713)\t0.25982598299745974\n",
      "  (1, 2278)\t0.14627109331525015\n",
      "  (1, 2124)\t0.14877169639257665\n",
      "  (1, 1578)\t0.27502895796544446\n",
      "  (1, 1044)\t0.27502895796544446\n",
      "  (1, 830)\t0.12376450090075405\n",
      "  :\t:\n",
      "  (1124, 1988)\t0.3388682829822421\n",
      "  (1124, 1404)\t0.25364489291397896\n",
      "  (1124, 1218)\t0.3075639976415336\n",
      "  (1124, 955)\t0.3759662714829509\n",
      "  (1124, 682)\t0.32448056526644764\n",
      "  (1125, 4059)\t0.37904512881382907\n",
      "  (1125, 3911)\t0.33169503069789164\n",
      "  (1125, 3818)\t0.37904512881382907\n",
      "  (1125, 3582)\t0.20685064401701586\n",
      "  (1125, 3356)\t0.2506354771787552\n",
      "  (1125, 1988)\t0.2715882293824603\n",
      "  (1125, 1704)\t0.32227341013300104\n",
      "  (1125, 1404)\t0.20328537906281782\n",
      "  (1125, 1218)\t0.2464992025991191\n",
      "  (1125, 999)\t0.2600570977436458\n",
      "  (1125, 682)\t0.2600570977436458\n",
      "  (1125, 425)\t0.28645444365587813\n",
      "  (1126, 4297)\t0.38201101723909\n",
      "  (1126, 3582)\t0.26706866317696015\n",
      "  (1126, 3565)\t0.2984271325332182\n",
      "  (1126, 3356)\t0.3236000649306333\n",
      "  (1126, 1453)\t0.30871200922101516\n",
      "  (1126, 1407)\t0.4431455980145844\n",
      "  (1126, 955)\t0.3890406321101872\n",
      "  (1126, 236)\t0.38201101723909\n"
     ]
    }
   ],
   "source": [
    "print(tfidf_data)\n",
    "# x = bow_transformer.fit_transform(x)\n",
    "# print(x.toarray())"
   ]
  },
  {
   "cell_type": "code",
   "execution_count": 65,
   "id": "0b3b2dc9-f1df-47b6-ada7-f97a832d5f58",
   "metadata": {},
   "outputs": [
    {
     "name": "stdout",
     "output_type": "stream",
     "text": [
      "  (0, 4163)\t0.3625368947298003\n",
      "  (0, 3929)\t0.2650672027389684\n",
      "  (0, 3248)\t0.5703930243213456\n",
      "  (0, 2794)\t0.3378313627799792\n",
      "  (0, 2419)\t0.38660863857082256\n",
      "  (0, 1778)\t0.24541476930470982\n",
      "  (0, 1529)\t0.30112336886479785\n",
      "  (0, 851)\t0.1924784827977011\n",
      "  (0, 749)\t0.14632241144993507\n",
      "  (1, 4128)\t0.12962193183477538\n",
      "  (1, 4100)\t0.18735784387153467\n",
      "  (1, 3817)\t0.20818166649497402\n",
      "  (1, 3729)\t0.16653402124809535\n",
      "  (1, 3712)\t0.20818166649497402\n",
      "  (1, 3504)\t0.562073531614604\n",
      "  (1, 3400)\t0.1751766885151538\n",
      "  (1, 3347)\t0.10916673255551344\n",
      "  (1, 3264)\t0.20818166649497402\n",
      "  (1, 3215)\t0.16412934415549427\n",
      "  (1, 3124)\t0.1691480540703735\n",
      "  (1, 3050)\t0.16653402124809535\n",
      "  (1, 2208)\t0.2203628218513549\n",
      "  (1, 1949)\t0.11768602213117582\n",
      "  (1, 1778)\t0.17170552715323234\n",
      "  (1, 1543)\t0.08435449283154306\n",
      "  :\t:\n",
      "  (844, 2803)\t0.11698676069839843\n",
      "  (844, 2608)\t0.12339038966144275\n",
      "  (844, 2371)\t0.163273871917296\n",
      "  (844, 2220)\t0.163273871917296\n",
      "  (844, 2198)\t0.14287779433348377\n",
      "  (844, 2177)\t0.09162364260373981\n",
      "  (844, 2002)\t0.326547743834592\n",
      "  (844, 1998)\t0.1388194267344086\n",
      "  (844, 1661)\t0.10453005167493021\n",
      "  (844, 1624)\t0.11563729327824003\n",
      "  (844, 1583)\t0.08991053636863383\n",
      "  (844, 1284)\t0.163273871917296\n",
      "  (844, 1045)\t0.163273871917296\n",
      "  (844, 975)\t0.12979401862448706\n",
      "  (844, 862)\t0.15424846380737445\n",
      "  (844, 803)\t0.11698676069839843\n",
      "  (844, 797)\t0.14390302319914317\n",
      "  (844, 781)\t0.08413397409111796\n",
      "  (844, 779)\t0.2707762516417238\n",
      "  (844, 577)\t0.11316147790206911\n",
      "  (844, 537)\t0.1388194267344086\n",
      "  (844, 242)\t0.10453005167493021\n",
      "  (844, 205)\t0.08445425868551287\n",
      "  (844, 127)\t0.30062476861582255\n",
      "  (844, 42)\t0.1353881258208619\n"
     ]
    }
   ],
   "source": [
    "from sklearn.model_selection import train_test_split\n",
    "x_train, x_test, y_train, y_test = train_test_split(tfidf_data, y, random_state=1)\n",
    "print(x_train)\n",
    "# print (x_test)"
   ]
  },
  {
   "cell_type": "code",
   "execution_count": 52,
   "id": "4dfee3e4-7452-4222-adf9-837b6900590e",
   "metadata": {},
   "outputs": [
    {
     "data": {
      "text/html": [
       "<style>#sk-container-id-3 {color: black;background-color: white;}#sk-container-id-3 pre{padding: 0;}#sk-container-id-3 div.sk-toggleable {background-color: white;}#sk-container-id-3 label.sk-toggleable__label {cursor: pointer;display: block;width: 100%;margin-bottom: 0;padding: 0.3em;box-sizing: border-box;text-align: center;}#sk-container-id-3 label.sk-toggleable__label-arrow:before {content: \"▸\";float: left;margin-right: 0.25em;color: #696969;}#sk-container-id-3 label.sk-toggleable__label-arrow:hover:before {color: black;}#sk-container-id-3 div.sk-estimator:hover label.sk-toggleable__label-arrow:before {color: black;}#sk-container-id-3 div.sk-toggleable__content {max-height: 0;max-width: 0;overflow: hidden;text-align: left;background-color: #f0f8ff;}#sk-container-id-3 div.sk-toggleable__content pre {margin: 0.2em;color: black;border-radius: 0.25em;background-color: #f0f8ff;}#sk-container-id-3 input.sk-toggleable__control:checked~div.sk-toggleable__content {max-height: 200px;max-width: 100%;overflow: auto;}#sk-container-id-3 input.sk-toggleable__control:checked~label.sk-toggleable__label-arrow:before {content: \"▾\";}#sk-container-id-3 div.sk-estimator input.sk-toggleable__control:checked~label.sk-toggleable__label {background-color: #d4ebff;}#sk-container-id-3 div.sk-label input.sk-toggleable__control:checked~label.sk-toggleable__label {background-color: #d4ebff;}#sk-container-id-3 input.sk-hidden--visually {border: 0;clip: rect(1px 1px 1px 1px);clip: rect(1px, 1px, 1px, 1px);height: 1px;margin: -1px;overflow: hidden;padding: 0;position: absolute;width: 1px;}#sk-container-id-3 div.sk-estimator {font-family: monospace;background-color: #f0f8ff;border: 1px dotted black;border-radius: 0.25em;box-sizing: border-box;margin-bottom: 0.5em;}#sk-container-id-3 div.sk-estimator:hover {background-color: #d4ebff;}#sk-container-id-3 div.sk-parallel-item::after {content: \"\";width: 100%;border-bottom: 1px solid gray;flex-grow: 1;}#sk-container-id-3 div.sk-label:hover label.sk-toggleable__label {background-color: #d4ebff;}#sk-container-id-3 div.sk-serial::before {content: \"\";position: absolute;border-left: 1px solid gray;box-sizing: border-box;top: 0;bottom: 0;left: 50%;z-index: 0;}#sk-container-id-3 div.sk-serial {display: flex;flex-direction: column;align-items: center;background-color: white;padding-right: 0.2em;padding-left: 0.2em;position: relative;}#sk-container-id-3 div.sk-item {position: relative;z-index: 1;}#sk-container-id-3 div.sk-parallel {display: flex;align-items: stretch;justify-content: center;background-color: white;position: relative;}#sk-container-id-3 div.sk-item::before, #sk-container-id-3 div.sk-parallel-item::before {content: \"\";position: absolute;border-left: 1px solid gray;box-sizing: border-box;top: 0;bottom: 0;left: 50%;z-index: -1;}#sk-container-id-3 div.sk-parallel-item {display: flex;flex-direction: column;z-index: 1;position: relative;background-color: white;}#sk-container-id-3 div.sk-parallel-item:first-child::after {align-self: flex-end;width: 50%;}#sk-container-id-3 div.sk-parallel-item:last-child::after {align-self: flex-start;width: 50%;}#sk-container-id-3 div.sk-parallel-item:only-child::after {width: 0;}#sk-container-id-3 div.sk-dashed-wrapped {border: 1px dashed gray;margin: 0 0.4em 0.5em 0.4em;box-sizing: border-box;padding-bottom: 0.4em;background-color: white;}#sk-container-id-3 div.sk-label label {font-family: monospace;font-weight: bold;display: inline-block;line-height: 1.2em;}#sk-container-id-3 div.sk-label-container {text-align: center;}#sk-container-id-3 div.sk-container {/* jupyter's `normalize.less` sets `[hidden] { display: none; }` but bootstrap.min.css set `[hidden] { display: none !important; }` so we also need the `!important` here to be able to override the default hidden behavior on the sphinx rendered scikit-learn.org. See: https://github.com/scikit-learn/scikit-learn/issues/21755 */display: inline-block !important;position: relative;}#sk-container-id-3 div.sk-text-repr-fallback {display: none;}</style><div id=\"sk-container-id-3\" class=\"sk-top-container\"><div class=\"sk-text-repr-fallback\"><pre>MultinomialNB()</pre><b>In a Jupyter environment, please rerun this cell to show the HTML representation or trust the notebook. <br />On GitHub, the HTML representation is unable to render, please try loading this page with nbviewer.org.</b></div><div class=\"sk-container\" hidden><div class=\"sk-item\"><div class=\"sk-estimator sk-toggleable\"><input class=\"sk-toggleable__control sk-hidden--visually\" id=\"sk-estimator-id-3\" type=\"checkbox\" checked><label for=\"sk-estimator-id-3\" class=\"sk-toggleable__label sk-toggleable__label-arrow\">MultinomialNB</label><div class=\"sk-toggleable__content\"><pre>MultinomialNB()</pre></div></div></div></div></div>"
      ],
      "text/plain": [
       "MultinomialNB()"
      ]
     },
     "execution_count": 52,
     "metadata": {},
     "output_type": "execute_result"
    }
   ],
   "source": [
    "from sklearn.naive_bayes import MultinomialNB\n",
    "from sklearn.svm import SVC\n",
    "from sklearn.tree import DecisionTreeClassifier\n",
    "from sklearn.neighbors import KNeighborsClassifier\n",
    "from sklearn.ensemble import RandomForestClassifier\n",
    "\n",
    "model = MultinomialNB()\n",
    "model.fit(x_train, y_train)"
   ]
  },
  {
   "cell_type": "code",
   "execution_count": 53,
   "id": "81b420ca-4084-4bbb-8102-bb6485198960",
   "metadata": {},
   "outputs": [],
   "source": [
    "y_result = model.predict(x_test)"
   ]
  },
  {
   "cell_type": "code",
   "execution_count": 54,
   "id": "bd7b2da5-b294-4f16-8dbf-ae55519ba8f1",
   "metadata": {},
   "outputs": [
    {
     "name": "stdout",
     "output_type": "stream",
     "text": [
      "[[113  14]\n",
      " [  7 148]]\n",
      "              precision    recall  f1-score   support\n",
      "\n",
      "           0       0.94      0.89      0.91       127\n",
      "           1       0.91      0.95      0.93       155\n",
      "\n",
      "    accuracy                           0.93       282\n",
      "   macro avg       0.93      0.92      0.92       282\n",
      "weighted avg       0.93      0.93      0.93       282\n",
      "\n"
     ]
    }
   ],
   "source": [
    "from sklearn.metrics import confusion_matrix, classification_report\n",
    "print(confusion_matrix(y_test, y_result))\n",
    "print(classification_report(y_test, y_result))"
   ]
  },
  {
   "cell_type": "code",
   "execution_count": 60,
   "id": "3a3e0180-9578-45ea-bbff-231da589a85e",
   "metadata": {},
   "outputs": [],
   "source": [
    "import matplotlib.pyplot as plt\n",
    "import seaborn as sns"
   ]
  },
  {
   "cell_type": "code",
   "execution_count": 62,
   "id": "a18258a0-371b-4720-b7aa-751f31210b1c",
   "metadata": {},
   "outputs": [
    {
     "data": {
      "image/png": "[encoded data removed]",
      "text/plain": [
       "<Figure size 432x432 with 2 Axes>"
      ]
     },
     "metadata": {
      "needs_background": "light"
     },
     "output_type": "display_data"
    }
   ],
   "source": [
    "# cm = confusion_matrix(y_test, y_result)\n",
    "# plt = figure(figsize=(6,6))\n",
    "# sns.heatmap(cm, annot=True, fmt='d', xticklabels=['HOAKS', 'FAKTA'], yticklabels=['HOAKS', 'FAKTA'], cmap=plt.cm.Blue, cbar=False)\n",
    "# plt.xlabel('Predicted Label')\n",
    "# plt.ylabel('True Label')\n",
    "# plt.show()\n",
    "\n",
    "cm = confusion_matrix(y_test, y_result)\n",
    "\n",
    "plt.figure(figsize=(6,6))\n",
    "sns.heatmap(cm,annot=True,linewidths=1, xticklabels=['HOAKS', 'FAKTA'], yticklabels=['HOAKS', 'FAKTA'], fmt = 'd')\n",
    "plt.xlabel('predicted')\n",
    "plt.ylabel('Truth')\n",
    "plt.show()"
   ]
  },
  {
   "cell_type": "code",
   "execution_count": null,
   "id": "e2d05a59-c3c8-43ae-9cf7-40c84b797995",
   "metadata": {},
   "outputs": [],
   "source": [
    "import pickle\n",
    "pickle.dump(model, open('fakenews_model.pkl', 'wb'))"
   ]
  },
  {
   "cell_type": "code",
   "execution_count": null,
   "id": "ddfcdc6f-665b-43e6-92e5-33dfe94a12c6",
   "metadata": {},
   "outputs": [],
   "source": [
    "pickle.dump(vec, open('vec.pkl', 'wb'))"
   ]
  },
  {
   "cell_type": "code",
   "execution_count": null,
   "id": "d04c7e2e",
   "metadata": {},
   "outputs": [],
   "source": [
    "pickle.dump(tfidf, open('tfidf.pkl', 'wb'))"
   ]
  }
 ],
 "metadata": {
  "kernelspec": {
   "display_name": "Python 3 (ipykernel)",
   "language": "python",
   "name": "python3"
  },
  "language_info": {
   "codemirror_mode": {
    "name": "ipython",
    "version": 3
   },
   "file_extension": ".py",
   "mimetype": "text/x-python",
   "name": "python",
   "nbconvert_exporter": "python",
   "pygments_lexer": "ipython3",
   "version": "3.10.5"
  }
 },
 "nbformat": 4,
 "nbformat_minor": 5
}

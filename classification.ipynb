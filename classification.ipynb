{
 "cells": [
  {
   "cell_type": "code",
   "execution_count": null,
   "id": "044d76ea-4e34-4e60-9d60-7daa80c8be9d",
   "metadata": {},
   "outputs": [],
   "source": [
    "import pandas as pd\n",
    "import numpy as np"
   ]
  },
  {
   "cell_type": "code",
   "execution_count": null,
   "id": "9f45f7bd-485d-40b2-8c0a-01cd26561165",
   "metadata": {},
   "outputs": [],
   "source": [
    "truenews = pd.read_csv('true_dataset.csv')\n",
    "fakenews = pd.read_csv('fake_dataset.csv')"
   ]
  },
  {
   "cell_type": "code",
   "execution_count": null,
   "id": "a2faa649",
   "metadata": {},
   "outputs": [],
   "source": [
    "data = pd.concat([truenews, fakenews])"
   ]
  },
  {
   "cell_type": "code",
   "execution_count": null,
   "id": "dcce6ab1",
   "metadata": {},
   "outputs": [],
   "source": [
    "data_final = data[['Label', 'tweet']]"
   ]
  },
  {
   "cell_type": "code",
   "execution_count": null,
   "id": "467760f2",
   "metadata": {},
   "outputs": [],
   "source": [
    "data_final.Label.value_counts() "
   ]
  },
  {
   "cell_type": "code",
   "execution_count": null,
   "id": "287a489d",
   "metadata": {},
   "outputs": [],
   "source": [
    "data_final['label_num'] = data_final.Label.map({'FAKTA': 1, 'HOAKS': 0})"
   ]
  },
  {
   "cell_type": "code",
   "execution_count": null,
   "id": "549611ec",
   "metadata": {},
   "outputs": [],
   "source": [
    "from sklearn.feature_extraction.text import CountVectorizer, TfidfTransformer"
   ]
  },
  {
   "cell_type": "code",
   "execution_count": null,
   "id": "b5d6ec2f",
   "metadata": {},
   "outputs": [],
   "source": [
    "#Data Cleaning\n",
    "from nltk.corpus import stopwords\n",
    "import string\n",
    "def process_text(text: str):\n",
    "    nopunc = [char for char in text if char not in string.punctuation]\n",
    "\n",
    "    # Join the characters again to form the string.\n",
    "    nopunc = ''.join(nopunc)\n",
    "    \n",
    "    # Convert string to lowercase and remove stopwords\n",
    "    clean_string = [word for word in nopunc.split() if word.lower() not in stopwords.words('indonesian')]\n",
    "    return clean_string"
   ]
  },
  {
   "cell_type": "code",
   "execution_count": null,
   "id": "9f4cfd76",
   "metadata": {},
   "outputs": [],
   "source": [
    "data_final['tweet_clean'] = data_final.tweet.apply(process_text)"
   ]
  },
  {
   "cell_type": "code",
   "execution_count": null,
   "id": "0b611124",
   "metadata": {},
   "outputs": [],
   "source": [
    "x = data_final.tweet\n",
    "y = data_final['label_num']\n",
    "\n",
    "x"
   ]
  },
  {
   "cell_type": "code",
   "execution_count": null,
   "id": "05fd7733",
   "metadata": {},
   "outputs": [],
   "source": [
    "vec = CountVectorizer().fit(x)\n",
    "x_features = vec.get_feature_names_out()\n",
    "x_vec = vec.transform(x)\n",
    "tfidf = TfidfTransformer().fit(x_vec)\n",
    "tfidf_data = tfidf.transform(x_vec)"
   ]
  },
  {
   "cell_type": "code",
   "execution_count": null,
   "id": "fc067384",
   "metadata": {},
   "outputs": [],
   "source": [
    "from sklearn.model_selection import train_test_split\n",
    "x_train, x_test, y_train, y_test = train_test_split(tfidf_data, y, random_state=1)"
   ]
  },
  {
   "cell_type": "code",
   "execution_count": null,
   "id": "6735835a",
   "metadata": {},
   "outputs": [],
   "source": [
    "from sklearn.naive_bayes import MultinomialNB\n",
    "\n",
    "model = MultinomialNB()\n",
    "model.fit(x_train, y_train)"
   ]
  },
  {
   "cell_type": "code",
   "execution_count": null,
   "id": "e259df68",
   "metadata": {},
   "outputs": [],
   "source": [
    "y_result = model.predict(x_test)"
   ]
  },
  {
   "cell_type": "code",
   "execution_count": null,
   "id": "612836c2",
   "metadata": {},
   "outputs": [],
   "source": [
    "import pickle\n",
    "pickle.dump(model, open('model.pkl', 'wb'))"
   ]
  },
  {
   "cell_type": "code",
   "execution_count": null,
   "id": "82e90136",
   "metadata": {},
   "outputs": [],
   "source": [
    "text = \"flu burung dl untuk di jadikan lahan bisnis vaksin\"\n",
    "x_text = vec.transform([text])"
   ]
  },
  {
   "cell_type": "code",
   "execution_count": null,
   "id": "856a3c72",
   "metadata": {},
   "outputs": [],
   "source": [
    "pickle.dump(vec, open('vec.pkl', 'wb'))"
   ]
  },
  {
   "cell_type": "code",
   "execution_count": null,
   "id": "06ae5080",
   "metadata": {},
   "outputs": [],
   "source": [
    "pickle.dump(tfidf, open('tfidf.pkl', 'wb'))"
   ]
  }
 ],
 "metadata": {
  "kernelspec": {
   "display_name": "Python 3.10.4 ('kuliahenv')",
   "language": "python",
   "name": "python3"
  },
  "language_info": {
   "codemirror_mode": {
    "name": "ipython",
    "version": 3
   },
   "file_extension": ".py",
   "mimetype": "text/x-python",
   "name": "python",
   "nbconvert_exporter": "python",
   "pygments_lexer": "ipython3",
   "version": "3.10.4"
  },
  "vscode": {
   "interpreter": {
    "hash": "bbec9e76ff4f096f8a02df180651625a4ce053f15d9d4f14fff0821c4a354921"
   }
  }
 },
 "nbformat": 4,
 "nbformat_minor": 5
}
